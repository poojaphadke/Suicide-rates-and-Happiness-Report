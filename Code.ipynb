{
 "cells": [
  {
   "cell_type": "code",
   "execution_count": 1,
   "metadata": {},
   "outputs": [
    {
     "name": "stderr",
     "output_type": "stream",
     "text": [
      "Using TensorFlow backend.\n"
     ]
    }
   ],
   "source": [
    "#import libraries\n",
    "import numpy as np\n",
    "import pandas as pd\n",
    "import matplotlib.pyplot as plt\n",
    "from keras.models import Sequential\n",
    "from keras.layers import Activation, Dense, Dropout"
   ]
  },
  {
   "cell_type": "code",
   "execution_count": 2,
   "metadata": {},
   "outputs": [],
   "source": [
    "#read data\n",
    "suicide_df = pd.read_csv('master.csv')"
   ]
  },
  {
   "cell_type": "code",
   "execution_count": null,
   "metadata": {},
   "outputs": [],
   "source": [
    "suicide_df.head()"
   ]
  },
  {
   "cell_type": "code",
   "execution_count": 3,
   "metadata": {},
   "outputs": [],
   "source": [
    "countryyears = suicide_df['country-year'].unique()\n",
    "age = suicide_df.age.unique()\n",
    "years = suicide_df.year.unique()\n",
    "countries = suicide_df.country.unique()"
   ]
  },
  {
   "cell_type": "code",
   "execution_count": null,
   "metadata": {},
   "outputs": [],
   "source": [
    "# pivot_table for age distribution of number of suicides\n",
    "df1 = pd.pivot_table(suicide_df[suicide_df['country-year']=='Latvia2000'], values='suicides_no', index='age',columns='year', aggfunc='sum')\n",
    "df1"
   ]
  },
  {
   "cell_type": "code",
   "execution_count": null,
   "metadata": {},
   "outputs": [],
   "source": [
    "df1.plot(kind='bar')"
   ]
  },
  {
   "cell_type": "markdown",
   "metadata": {},
   "source": [
    "the age group of maximum suicide rate varies from country to country."
   ]
  },
  {
   "cell_type": "code",
   "execution_count": null,
   "metadata": {},
   "outputs": [],
   "source": [
    "#to get suicide rate relative to gdp\n",
    "def suicide_rate(country):\n",
    "    gdp_and_suicide_rate= pd.DataFrame(columns=['Year','No_of_suicides/100k_pop','gdp_per_capita'])\n",
    "    i=0\n",
    "    for year in years:\n",
    "        filtered_2 = suicide_df[(suicide_df['country'] == country) & (suicide_df['year'] == year)]\n",
    "        suicide_rate = filtered_2.sum(axis=0)\n",
    "#         print(year, suicide_rate['suicides/100k pop'],suicide_rate['gdp_per_capita ($)']/12)\n",
    "        gdp_and_suicide_rate.loc[i]=[year, suicide_rate['suicides/100k pop'],suicide_rate['gdp_per_capita ($)']/12]\n",
    "        i+=1\n",
    "#         gdp_and_suicide_rate.append({'Year':year,'No_of_suicides/100k_pop':suicide_rate['suicides/100k pop'], 'gdp_per_capita' :suicide_rate['gdp_per_capita ($)']/12}, ignore_index=True) \n",
    "    return(gdp_and_suicide_rate)\n",
    "    print(gdp_and_suicide_rate)\n",
    "#         print(year, suicide_rate['suicides/100k pop'],suicide_rate['gdp_per_capita ($)']/12)countryes=['Latvia','Belarus','Spain']\n"
   ]
  },
  {
   "cell_type": "code",
   "execution_count": null,
   "metadata": {},
   "outputs": [],
   "source": [
    "df= suicide_rate('United States')\n",
    "df.plot(x= 'gdp_per_capita', y='No_of_suicides/100k_pop', kind='scatter')"
   ]
  },
  {
   "cell_type": "markdown",
   "metadata": {},
   "source": [
    "there is a correlation between gdp and suicide rate but varies from country to country."
   ]
  },
  {
   "cell_type": "code",
   "execution_count": null,
   "metadata": {},
   "outputs": [],
   "source": [
    "#suicide rate vs sex\n",
    "df3 = pd.pivot_table(suicide_df[suicide_df['country']=='Uruguay'], values='suicides/100k pop',index='year', columns=['sex'], aggfunc='sum')\n",
    "\n",
    "df3.plot(kind='bar', figsize=(8,5))"
   ]
  },
  {
   "cell_type": "code",
   "execution_count": null,
   "metadata": {},
   "outputs": [],
   "source": [
    "countryes=['Latvia','Belarus','Spain']\n",
    "for country in countryes:\n",
    "    df3 = pd.pivot_table(suicide_df[suicide_df['country']==country], values='suicides/100k pop',index='year', columns=['sex'], aggfunc='sum')\n",
    "    df3.plot(kind='bar', figsize=(8,5), title=country)"
   ]
  },
  {
   "cell_type": "markdown",
   "metadata": {},
   "source": [
    "In all countries number of male suicides is greater than number of female suicides"
   ]
  },
  {
   "cell_type": "code",
   "execution_count": null,
   "metadata": {},
   "outputs": [],
   "source": [
    "#to find years of max number of suicides\n",
    "df4 = pd.pivot_table(suicide_df, values='suicides/100k pop',index='year', columns='country', aggfunc='sum')\n",
    "for country in countries:\n",
    "    print(df4.idxmax())\n"
   ]
  },
  {
   "cell_type": "code",
   "execution_count": null,
   "metadata": {},
   "outputs": [],
   "source": [
    "#to find years of min number of suicides\n",
    "for country in countries:\n",
    "    print(df4.idxmin())"
   ]
  },
  {
   "cell_type": "markdown",
   "metadata": {},
   "source": [
    "There is no clear trend on the number of suicides increasing or decreasing over the years."
   ]
  },
  {
   "cell_type": "code",
   "execution_count": null,
   "metadata": {},
   "outputs": [],
   "source": [
    "# trend over the years\n",
    "df5= pd.pivot_table(suicide_df, values='suicides/100k pop',index='year', aggfunc='mean')\n",
    "df5.plot(kind='bar')"
   ]
  },
  {
   "cell_type": "code",
   "execution_count": null,
   "metadata": {},
   "outputs": [],
   "source": [
    "# trend over the years for a particular country\n",
    "df5= pd.pivot_table(suicide_df, values='suicides/100k pop',index='year',columns='country', aggfunc='sum')\n",
    "\n",
    "country= 'Chile' # enter country name here\n",
    "df5[country].plot(kind='bar', title=country)"
   ]
  },
  {
   "cell_type": "code",
   "execution_count": null,
   "metadata": {},
   "outputs": [],
   "source": [
    "happiness2015_df = pd.read_csv('2015.csv')"
   ]
  },
  {
   "cell_type": "code",
   "execution_count": null,
   "metadata": {},
   "outputs": [],
   "source": [
    "suicide_rates_df = pd.read_csv('master.csv')\n",
    "suicide2015_df = suicide_rates_df.loc[suicide_rates_df['year'] == 2015]"
   ]
  },
  {
   "cell_type": "code",
   "execution_count": null,
   "metadata": {},
   "outputs": [],
   "source": [
    "happiness_countries = happiness2015_df.Country.values\n",
    "suicide_countries = suicide2015_df.country.unique()\n",
    "\n",
    "countries_intersect = set(suicide_countries).intersection(set(happiness_countries))"
   ]
  },
  {
   "cell_type": "code",
   "execution_count": null,
   "metadata": {},
   "outputs": [],
   "source": [
    "happiness_scores = []\n",
    "suicides_per_100k = []\n",
    "family_scores = []\n",
    "freedom_scores = []\n",
    "trust_scores = []\n",
    "generosity_scores = []\n",
    "life_scores = []\n",
    "\n",
    "for country in countries_intersect:\n",
    "  happiness_scores.append(happiness2015_df.loc[happiness2015_df['Country'] == country]['Happiness Score'].sum())\n",
    "  suicides_per_100k.append(suicide2015_df.loc[suicide2015_df['country'] == country]['suicides/100k pop'].sum())\n",
    "  family_scores.append(happiness2015_df.loc[happiness2015_df['Country'] == country]['Family'].sum())\n",
    "  freedom_scores.append(happiness2015_df.loc[happiness2015_df['Country'] == country]['Freedom'].sum())\n",
    "  trust_scores.append(happiness2015_df.loc[happiness2015_df['Country'] == country]['Trust (Government Corruption)'].sum())\n",
    "  generosity_scores.append(happiness2015_df.loc[happiness2015_df['Country'] == country]['Generosity'].sum())\n",
    "  life_scores.append(happiness2015_df.loc[happiness2015_df['Country'] == country]['Health (Life Expectancy)'].sum())\n",
    "\n",
    "plt.scatter(happiness_scores, suicides_per_100k)\n",
    "plt.xlabel('Happiness Score')\n",
    "plt.ylabel('Suicides / 100k Pop')\n",
    "plt.title('Suicides / 100k Population vs Happiness Score (2015)')\n",
    "# plt.savefig('suic_hapscore_2015.png')\n",
    "plt.show()"
   ]
  },
  {
   "cell_type": "code",
   "execution_count": null,
   "metadata": {},
   "outputs": [],
   "source": [
    "plt.scatter(family_scores, suicides_per_100k)\n",
    "plt.xlabel('Family Score')\n",
    "plt.ylabel('Suicides / 100k Pop')\n",
    "plt.title('Suicides / 100k Population vs Family Score (2015)')\n",
    "# plt.savefig('suic_famscore_2015.png')\n",
    "plt.show()"
   ]
  },
  {
   "cell_type": "code",
   "execution_count": null,
   "metadata": {},
   "outputs": [],
   "source": [
    "plt.scatter(freedom_scores, suicides_per_100k)\n",
    "plt.xlabel('Freedom Score')\n",
    "plt.ylabel('Suicides / 100k Pop')\n",
    "plt.title('Suicides / 100k Population vs Freedom Score (2015)')\n",
    "# plt.savefig('suic_freescore_2015.png')\n",
    "plt.show()"
   ]
  },
  {
   "cell_type": "code",
   "execution_count": null,
   "metadata": {},
   "outputs": [],
   "source": [
    "plt.scatter(life_scores, suicides_per_100k)\n",
    "plt.xlabel('Health Score')\n",
    "plt.ylabel('Suicides / 100k Pop')\n",
    "plt.title('Suicides / 100k Population vs Health Score (2015)')\n",
    "# plt.savefig('suic_healthscore_2015.png')\n",
    "plt.show()"
   ]
  },
  {
   "cell_type": "code",
   "execution_count": null,
   "metadata": {},
   "outputs": [],
   "source": [
    "plt.scatter(trust_scores, suicides_per_100k)\n",
    "plt.xlabel('Trust Score')\n",
    "plt.ylabel('Suicides / 100k Pop')\n",
    "plt.title('Suicides / 100k Population vs Government Trust Score (2015)')\n",
    "# plt.savefig('suic_trustscore_2015.png')\n",
    "plt.show()"
   ]
  },
  {
   "cell_type": "code",
   "execution_count": null,
   "metadata": {},
   "outputs": [],
   "source": [
    "plt.scatter(generosity_scores, suicides_per_100k)\n",
    "plt.xlabel('Generosity Score')\n",
    "plt.ylabel('Suicides / 100k Pop')\n",
    "plt.title('Suicides / 100k Population vs Generosity Score (2015)')\n",
    "# plt.savefig('suic_generscore_2015.png')\n",
    "plt.show()"
   ]
  },
  {
   "cell_type": "code",
   "execution_count": null,
   "metadata": {},
   "outputs": [],
   "source": [
    "#Slight trend with trust (in gov) and generosity score."
   ]
  },
  {
   "cell_type": "code",
   "execution_count": null,
   "metadata": {},
   "outputs": [],
   "source": [
    "# calculating correlation coeff between suicides and trust in gov and generosity\\\n",
    "\n",
    "corr_trust_suic = np.corrcoef(suicides_per_100k, trust_scores)\n",
    "corr_gen_suic = np.corrcoef(suicides_per_100k, generosity_scores)\n",
    "corr_hap = np.corrcoef(suicides_per_100k, happiness_scores)\n",
    "corr_fam = np.corrcoef(suicides_per_100k, family_scores)\n",
    "corr_health = np.corrcoef(suicides_per_100k, life_scores)\n",
    "corr_free = np.corrcoef(suicides_per_100k, freedom_scores)\n",
    "\n",
    "\n",
    "print('trust', corr_trust_suic)\n",
    "print('gen', corr_gen_suic)\n",
    "print('hap', corr_hap)\n",
    "print('free', corr_free)\n",
    "print('health', corr_health)\n",
    "print('fam', corr_fam)"
   ]
  },
  {
   "cell_type": "markdown",
   "metadata": {},
   "source": [
    "# Prediction"
   ]
  },
  {
   "cell_type": "code",
   "execution_count": 5,
   "metadata": {},
   "outputs": [],
   "source": [
    "from sklearn.preprocessing import OneHotEncoder\n",
    "from sklearn.model_selection import train_test_split\n",
    "from sklearn.metrics import mean_squared_error, r2_score"
   ]
  },
  {
   "cell_type": "code",
   "execution_count": 6,
   "metadata": {},
   "outputs": [],
   "source": [
    "def get_training_data(country):\n",
    "    training_df = suicide_df[suicide_df['country'] == country]\n",
    "    y = training_df.loc[:, 'suicides/100k pop'].values\n",
    "    x = training_df.loc[:, ['sex', 'age', 'population', 'gdp_per_capita ($)']].values\n",
    "    enc = OneHotEncoder()\n",
    "    x = enc.fit_transform(x).toarray()\n",
    "    return x, y"
   ]
  },
  {
   "cell_type": "code",
   "execution_count": 7,
   "metadata": {},
   "outputs": [],
   "source": [
    "for country in countries:\n",
    "    x_train, x_test, y_train, y_test = train_test_split(get_training_data(country)[0], get_training_data(country)[1], test_size = 1/3, random_state = 0)"
   ]
  },
  {
   "cell_type": "code",
   "execution_count": null,
   "metadata": {},
   "outputs": [],
   "source": [
    "#saving per country model in dictionary\n",
    "model_dict_lr = {}\n",
    "for country in countries:\n",
    "    from sklearn.linear_model import LinearRegression\n",
    "    model_lr = LinearRegression()\n",
    "    model_lr.fit(x_train, y_train)\n",
    "    model_dict_lr[country] = model_lr"
   ]
  },
  {
   "cell_type": "code",
   "execution_count": null,
   "metadata": {},
   "outputs": [],
   "source": [
    "#prediction\n",
    "y_pred = {}\n",
    "for country in countries:\n",
    "    y_pred[country] = model_dict_lr[country].predict(x_test)"
   ]
  },
  {
   "cell_type": "code",
   "execution_count": null,
   "metadata": {},
   "outputs": [],
   "source": [
    "#mean squared error\n",
    "mse_lr = {}\n",
    "for country in countries:\n",
    "    mse_lr[country] = mean_squared_error(y_pred[country], y_test)"
   ]
  },
  {
   "cell_type": "code",
   "execution_count": null,
   "metadata": {},
   "outputs": [],
   "source": [
    "#avg mean squared error\n",
    "sum(mse_lr.values())/len(mse_lr)"
   ]
  },
  {
   "cell_type": "code",
   "execution_count": 9,
   "metadata": {},
   "outputs": [
    {
     "name": "stdout",
     "output_type": "stream",
     "text": [
      "Epoch 1/1\n",
      "176/176 [==============================] - 1s 6ms/step - loss: 97.2452\n",
      "Epoch 1/1\n",
      "176/176 [==============================] - 1s 7ms/step - loss: 108.1822\n",
      "Epoch 1/1\n",
      "176/176 [==============================] - 1s 6ms/step - loss: 116.3902\n",
      "Epoch 1/1\n",
      "176/176 [==============================] - 1s 7ms/step - loss: 115.2780\n",
      "Epoch 1/1\n",
      "176/176 [==============================] - 1s 8ms/step - loss: 93.7880\n",
      "Epoch 1/1\n",
      "176/176 [==============================] - 1s 8ms/step - loss: 114.6530\n",
      "Epoch 1/1\n",
      "176/176 [==============================] - 1s 8ms/step - loss: 91.0567\n",
      "Epoch 1/1\n",
      "176/176 [==============================] - 2s 9ms/step - loss: 106.5905\n",
      "Epoch 1/1\n",
      "176/176 [==============================] - 2s 9ms/step - loss: 89.3443\n",
      "Epoch 1/1\n",
      "176/176 [==============================] - 2s 10ms/step - loss: 98.3472\n",
      "Epoch 1/1\n",
      "176/176 [==============================] - 2s 10ms/step - loss: 94.8763\n",
      "Epoch 1/1\n",
      "176/176 [==============================] - 2s 10ms/step - loss: 93.1888\n",
      "Epoch 1/1\n",
      "176/176 [==============================] - 2s 11ms/step - loss: 87.1148\n",
      "Epoch 1/1\n",
      "176/176 [==============================] - 2s 11ms/step - loss: 105.6047\n",
      "Epoch 1/1\n",
      "176/176 [==============================] - 2s 12ms/step - loss: 91.6763\n",
      "Epoch 1/1\n",
      "176/176 [==============================] - 2s 12ms/step - loss: 102.8699\n",
      "Epoch 1/1\n",
      "176/176 [==============================] - 2s 12ms/step - loss: 127.0931\n",
      "Epoch 1/1\n",
      "176/176 [==============================] - 2s 13ms/step - loss: 102.9466\n",
      "Epoch 1/1\n",
      "176/176 [==============================] - 2s 13ms/step - loss: 97.9561\n",
      "Epoch 1/1\n",
      "176/176 [==============================] - 2s 14ms/step - loss: 100.2874\n",
      "Epoch 1/1\n",
      "176/176 [==============================] - 2s 14ms/step - loss: 101.9139\n",
      "Epoch 1/1\n",
      "176/176 [==============================] - 3s 15ms/step - loss: 109.3629\n",
      "Epoch 1/1\n",
      "176/176 [==============================] - 3s 15ms/step - loss: 108.5017\n",
      "Epoch 1/1\n",
      "176/176 [==============================] - 3s 15ms/step - loss: 109.6531\n",
      "Epoch 1/1\n",
      "176/176 [==============================] - 3s 17ms/step - loss: 110.9610\n",
      "Epoch 1/1\n",
      "176/176 [==============================] - 3s 16ms/step - loss: 95.4202\n",
      "Epoch 1/1\n",
      "176/176 [==============================] - 3s 17ms/step - loss: 86.3525\n",
      "Epoch 1/1\n",
      "176/176 [==============================] - 3s 17ms/step - loss: 89.2914\n",
      "Epoch 1/1\n",
      "176/176 [==============================] - 3s 17ms/step - loss: 89.0843\n",
      "Epoch 1/1\n",
      "176/176 [==============================] - 3s 18ms/step - loss: 98.5451\n",
      "Epoch 1/1\n",
      "176/176 [==============================] - 3s 18ms/step - loss: 117.1533\n",
      "Epoch 1/1\n",
      "176/176 [==============================] - 3s 18ms/step - loss: 83.4622\n",
      "Epoch 1/1\n",
      "176/176 [==============================] - 3s 18ms/step - loss: 99.2535\n",
      "Epoch 1/1\n",
      "176/176 [==============================] - 3s 19ms/step - loss: 104.0128\n",
      "Epoch 1/1\n",
      "176/176 [==============================] - 3s 20ms/step - loss: 100.6728\n",
      "Epoch 1/1\n",
      "176/176 [==============================] - 4s 20ms/step - loss: 94.0085\n",
      "Epoch 1/1\n",
      "176/176 [==============================] - 4s 22ms/step - loss: 114.6950\n",
      "Epoch 1/1\n",
      "176/176 [==============================] - 4s 21ms/step - loss: 106.9135\n",
      "Epoch 1/1\n",
      "176/176 [==============================] - 4s 21ms/step - loss: 105.3183\n",
      "Epoch 1/1\n",
      "176/176 [==============================] - 4s 21ms/step - loss: 109.6215\n",
      "Epoch 1/1\n",
      "176/176 [==============================] - 4s 22ms/step - loss: 98.3475\n",
      "Epoch 1/1\n",
      "176/176 [==============================] - 4s 23ms/step - loss: 105.0156\n",
      "Epoch 1/1\n",
      "176/176 [==============================] - 4s 23ms/step - loss: 103.7922\n",
      "Epoch 1/1\n",
      "176/176 [==============================] - 4s 23ms/step - loss: 93.8818\n",
      "Epoch 1/1\n",
      "176/176 [==============================] - 4s 24ms/step - loss: 89.8276\n",
      "Epoch 1/1\n",
      "176/176 [==============================] - 4s 24ms/step - loss: 96.4962\n",
      "Epoch 1/1\n",
      "176/176 [==============================] - 4s 25ms/step - loss: 101.9947\n",
      "Epoch 1/1\n",
      "176/176 [==============================] - 4s 25ms/step - loss: 103.2811\n",
      "Epoch 1/1\n",
      "176/176 [==============================] - 5s 27ms/step - loss: 98.2663\n",
      "Epoch 1/1\n",
      "176/176 [==============================] - 5s 26ms/step - loss: 102.9675\n",
      "Epoch 1/1\n",
      "176/176 [==============================] - 6s 31ms/step - loss: 98.5718\n",
      "Epoch 1/1\n",
      "176/176 [==============================] - 5s 29ms/step - loss: 104.6072\n",
      "Epoch 1/1\n",
      "176/176 [==============================] - 5s 27ms/step - loss: 105.8757\n",
      "Epoch 1/1\n",
      "176/176 [==============================] - 5s 28ms/step - loss: 103.0244\n",
      "Epoch 1/1\n",
      "176/176 [==============================] - 5s 28ms/step - loss: 106.9266\n",
      "Epoch 1/1\n",
      "176/176 [==============================] - 5s 29ms/step - loss: 101.5571\n",
      "Epoch 1/1\n",
      "176/176 [==============================] - 5s 29ms/step - loss: 117.9966\n",
      "Epoch 1/1\n",
      "176/176 [==============================] - 5s 29ms/step - loss: 104.1962\n",
      "Epoch 1/1\n",
      "176/176 [==============================] - 5s 30ms/step - loss: 91.1199\n",
      "Epoch 1/1\n",
      "176/176 [==============================] - 5s 31ms/step - loss: 103.9416\n",
      "Epoch 1/1\n",
      "176/176 [==============================] - 5s 31ms/step - loss: 111.4643\n",
      "Epoch 1/1\n",
      "176/176 [==============================] - 6s 32ms/step - loss: 106.9128\n",
      "Epoch 1/1\n",
      "176/176 [==============================] - 6s 32ms/step - loss: 107.1311\n",
      "Epoch 1/1\n",
      "176/176 [==============================] - 6s 32ms/step - loss: 99.1146\n",
      "Epoch 1/1\n",
      "176/176 [==============================] - 6s 32ms/step - loss: 89.1768\n",
      "Epoch 1/1\n",
      "176/176 [==============================] - 6s 33ms/step - loss: 98.3274\n",
      "Epoch 1/1\n",
      "176/176 [==============================] - 6s 33ms/step - loss: 105.4784\n",
      "Epoch 1/1\n",
      "176/176 [==============================] - 6s 34ms/step - loss: 79.5146\n",
      "Epoch 1/1\n",
      "176/176 [==============================] - 6s 34ms/step - loss: 97.1665\n",
      "Epoch 1/1\n",
      "176/176 [==============================] - 6s 35ms/step - loss: 105.5248\n",
      "Epoch 1/1\n",
      "176/176 [==============================] - 6s 37ms/step - loss: 116.1579\n",
      "Epoch 1/1\n",
      "176/176 [==============================] - 7s 41ms/step - loss: 100.7473\n",
      "Epoch 1/1\n",
      "176/176 [==============================] - 8s 43ms/step - loss: 103.6640\n",
      "Epoch 1/1\n",
      "176/176 [==============================] - 8s 44ms/step - loss: 89.5711\n",
      "Epoch 1/1\n",
      "176/176 [==============================] - 10s 56ms/step - loss: 116.5231\n",
      "Epoch 1/1\n",
      "176/176 [==============================] - 7s 42ms/step - loss: 96.1121\n",
      "Epoch 1/1\n",
      "176/176 [==============================] - 7s 39ms/step - loss: 106.8685\n",
      "Epoch 1/1\n",
      "176/176 [==============================] - 7s 38ms/step - loss: 91.9067\n",
      "Epoch 1/1\n",
      "176/176 [==============================] - 7s 42ms/step - loss: 108.8132\n",
      "Epoch 1/1\n",
      "176/176 [==============================] - 7s 39ms/step - loss: 110.8229\n",
      "Epoch 1/1\n",
      "176/176 [==============================] - 7s 39ms/step - loss: 98.7576\n",
      "Epoch 1/1\n",
      "176/176 [==============================] - 7s 40ms/step - loss: 85.7493\n",
      "Epoch 1/1\n",
      "176/176 [==============================] - 7s 41ms/step - loss: 97.5253\n",
      "Epoch 1/1\n",
      "176/176 [==============================] - 7s 42ms/step - loss: 80.4061\n",
      "Epoch 1/1\n",
      "176/176 [==============================] - 7s 41ms/step - loss: 92.9785\n",
      "Epoch 1/1\n",
      "176/176 [==============================] - 7s 42ms/step - loss: 93.5137\n",
      "Epoch 1/1\n",
      "176/176 [==============================] - 7s 42ms/step - loss: 101.7402\n",
      "Epoch 1/1\n",
      "176/176 [==============================] - 8s 43ms/step - loss: 95.7766\n",
      "Epoch 1/1\n",
      "176/176 [==============================] - 8s 43ms/step - loss: 98.0645\n",
      "Epoch 1/1\n",
      "176/176 [==============================] - 8s 47ms/step - loss: 92.2432\n",
      "Epoch 1/1\n",
      "176/176 [==============================] - 8s 45ms/step - loss: 98.4152\n",
      "Epoch 1/1\n",
      "176/176 [==============================] - 8s 46ms/step - loss: 74.6053\n",
      "Epoch 1/1\n",
      "176/176 [==============================] - 8s 45ms/step - loss: 90.6775\n",
      "Epoch 1/1\n",
      "176/176 [==============================] - 8s 46ms/step - loss: 103.2596\n",
      "Epoch 1/1\n",
      "176/176 [==============================] - 8s 47ms/step - loss: 101.1795\n",
      "Epoch 1/1\n",
      "176/176 [==============================] - 8s 48ms/step - loss: 98.9412\n",
      "Epoch 1/1\n",
      "176/176 [==============================] - 8s 48ms/step - loss: 106.0455\n",
      "Epoch 1/1\n",
      "176/176 [==============================] - 8s 48ms/step - loss: 93.4149\n",
      "Epoch 1/1\n",
      "176/176 [==============================] - 9s 50ms/step - loss: 86.8455\n",
      "Epoch 1/1\n",
      "176/176 [==============================] - 9s 50ms/step - loss: 101.9997\n",
      "Epoch 1/1\n",
      "176/176 [==============================] - 9s 50ms/step - loss: 95.7423\n"
     ]
    }
   ],
   "source": [
    "#saving per country model in dictionary\n",
    "model_dict_nn = {}\n",
    "for country in countries:\n",
    "    from sklearn.linear_model import LinearRegression\n",
    "    model_nn = model_nn = Sequential()\n",
    "    model_nn.add(Dense(64))\n",
    "    model_nn.add(Activation('sigmoid'))\n",
    "    model_nn.add(Dense(64))\n",
    "    model_nn.add(Activation('sigmoid'))\n",
    "    model_nn.add(Dense(32))\n",
    "    model_nn.add(Activation('relu'))\n",
    "    model_nn.add(Dense(1))\n",
    "    model_nn.compile(loss='mean_squared_error', optimizer='adam')\n",
    "    model_nn.fit(x_train, y_train)\n",
    "    model_dict_nn[country] = model_nn"
   ]
  },
  {
   "cell_type": "code",
   "execution_count": 10,
   "metadata": {},
   "outputs": [],
   "source": [
    "#prediction\n",
    "y_pred_nn = {}\n",
    "for country in countries:\n",
    "    y_pred_nn[country] = model_dict_nn[country].predict(x_test)"
   ]
  },
  {
   "cell_type": "code",
   "execution_count": 12,
   "metadata": {},
   "outputs": [],
   "source": [
    "#mean squared error\n",
    "mse_nn = {}\n",
    "for country in countries:\n",
    "    mse_nn[country] = mean_squared_error(y_pred_nn[country], y_test)"
   ]
  },
  {
   "cell_type": "code",
   "execution_count": 13,
   "metadata": {},
   "outputs": [
    {
     "data": {
      "text/plain": [
       "89.62152384574503"
      ]
     },
     "execution_count": 13,
     "metadata": {},
     "output_type": "execute_result"
    }
   ],
   "source": [
    "#avg mean squared error\n",
    "sum(mse_nn.values())/len(mse_nn)"
   ]
  },
  {
   "cell_type": "markdown",
   "metadata": {},
   "source": [
    "Conclusion\n",
    "Through our investigation of the data we have found that often the metrics used to measure happiness in countries are not effective."
   ]
  }
 ],
 "metadata": {
  "kernelspec": {
   "display_name": "Python 3",
   "language": "python",
   "name": "python3"
  },
  "language_info": {
   "codemirror_mode": {
    "name": "ipython",
    "version": 3
   },
   "file_extension": ".py",
   "mimetype": "text/x-python",
   "name": "python",
   "nbconvert_exporter": "python",
   "pygments_lexer": "ipython3",
   "version": "3.7.3"
  }
 },
 "nbformat": 4,
 "nbformat_minor": 2
}
