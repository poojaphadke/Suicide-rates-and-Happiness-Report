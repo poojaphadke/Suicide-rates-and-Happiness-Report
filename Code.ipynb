{
 "cells": [
  {
   "cell_type": "code",
   "execution_count": 1,
   "metadata": {},
   "outputs": [
    {
     "name": "stderr",
     "output_type": "stream",
     "text": [
      "Using TensorFlow backend.\n"
     ]
    }
   ],
   "source": [
    "#import libraries\n",
    "import numpy as np\n",
    "import pandas as pd\n",
    "import matplotlib.pyplot as plt\n",
    "from keras.models import Sequential\n",
    "from keras.layers import Activation, Dense, Dropout"
   ]
  },
  {
   "cell_type": "code",
   "execution_count": 2,
   "metadata": {},
   "outputs": [],
   "source": [
    "#read data\n",
    "suicide_df = pd.read_csv('master.csv')"
   ]
  },
  {
   "cell_type": "code",
   "execution_count": null,
   "metadata": {},
   "outputs": [],
   "source": [
    "suicide_df.head()"
   ]
  },
  {
   "cell_type": "code",
   "execution_count": 3,
   "metadata": {},
   "outputs": [],
   "source": [
    "countryyears = suicide_df['country-year'].unique()\n",
    "age = suicide_df.age.unique()\n",
    "years = suicide_df.year.unique()\n",
    "countries = suicide_df.country.unique()"
   ]
  },
  {
   "cell_type": "code",
   "execution_count": null,
   "metadata": {},
   "outputs": [],
   "source": [
    "# pivot_table for age distribution of number of suicides\n",
    "df1 = pd.pivot_table(suicide_df[suicide_df['country-year']=='Latvia2000'], values='suicides_no', index='age',columns='year', aggfunc='sum')\n",
    "df1"
   ]
  },
  {
   "cell_type": "code",
   "execution_count": null,
   "metadata": {},
   "outputs": [],
   "source": [
    "df1.plot(kind='bar')"
   ]
  },
  {
   "cell_type": "markdown",
   "metadata": {},
   "source": [
    "the age group of maximum suicide rate varies from country to country."
   ]
  },
  {
   "cell_type": "code",
   "execution_count": null,
   "metadata": {},
   "outputs": [],
   "source": [
    "#to get suicide rate relative to gdp\n",
    "def suicide_rate(country):\n",
    "    gdp_and_suicide_rate= pd.DataFrame(columns=['Year','No_of_suicides/100k_pop','gdp_per_capita'])\n",
    "    i=0\n",
    "    for year in years:\n",
    "        filtered_2 = suicide_df[(suicide_df['country'] == country) & (suicide_df['year'] == year)]\n",
    "        suicide_rate = filtered_2.sum(axis=0)\n",
    "#         print(year, suicide_rate['suicides/100k pop'],suicide_rate['gdp_per_capita ($)']/12)\n",
    "        gdp_and_suicide_rate.loc[i]=[year, suicide_rate['suicides/100k pop'],suicide_rate['gdp_per_capita ($)']/12]\n",
    "        i+=1\n",
    "#         gdp_and_suicide_rate.append({'Year':year,'No_of_suicides/100k_pop':suicide_rate['suicides/100k pop'], 'gdp_per_capita' :suicide_rate['gdp_per_capita ($)']/12}, ignore_index=True) \n",
    "    return(gdp_and_suicide_rate)\n",
    "    print(gdp_and_suicide_rate)\n",
    "#         print(year, suicide_rate['suicides/100k pop'],suicide_rate['gdp_per_capita ($)']/12)countryes=['Latvia','Belarus','Spain']\n"
   ]
  },
  {
   "cell_type": "code",
   "execution_count": null,
   "metadata": {},
   "outputs": [],
   "source": [
    "df= suicide_rate('United States')\n",
    "df.plot(x= 'gdp_per_capita', y='No_of_suicides/100k_pop', kind='scatter')"
   ]
  },
  {
   "cell_type": "markdown",
   "metadata": {},
   "source": [
    "there is a correlation between gdp and suicide rate but varies from country to country."
   ]
  },
  {
   "cell_type": "code",
   "execution_count": null,
   "metadata": {},
   "outputs": [],
   "source": [
    "#suicide rate vs sex\n",
    "df3 = pd.pivot_table(suicide_df[suicide_df['country']=='Uruguay'], values='suicides/100k pop',index='year', columns=['sex'], aggfunc='sum')\n",
    "\n",
    "df3.plot(kind='bar', figsize=(8,5))"
   ]
  },
  {
   "cell_type": "code",
   "execution_count": null,
   "metadata": {},
   "outputs": [],
   "source": [
    "countryes=['Latvia','Belarus','Spain']\n",
    "for country in countryes:\n",
    "    df3 = pd.pivot_table(suicide_df[suicide_df['country']==country], values='suicides/100k pop',index='year', columns=['sex'], aggfunc='sum')\n",
    "    df3.plot(kind='bar', figsize=(8,5), title=country)"
   ]
  },
  {
   "cell_type": "markdown",
   "metadata": {},
   "source": [
    "In all countries number of male suicides is greater than number of female suicides"
   ]
  },
  {
   "cell_type": "code",
   "execution_count": null,
   "metadata": {},
   "outputs": [],
   "source": [
    "#to find years of max number of suicides\n",
    "df4 = pd.pivot_table(suicide_df, values='suicides/100k pop',index='year', columns='country', aggfunc='sum')\n",
    "for country in countries:\n",
    "    print(df4.idxmax())\n"
   ]
  },
  {
   "cell_type": "code",
   "execution_count": null,
   "metadata": {},
   "outputs": [],
   "source": [
    "#to find years of min number of suicides\n",
    "for country in countries:\n",
    "    print(df4.idxmin())"
   ]
  },
  {
   "cell_type": "markdown",
   "metadata": {},
   "source": [
    "There is no clear trend on the number of suicides increasing or decreasing over the years."
   ]
  },
  {
   "cell_type": "code",
   "execution_count": null,
   "metadata": {},
   "outputs": [],
   "source": [
    "# trend over the years\n",
    "df5= pd.pivot_table(suicide_df, values='suicides/100k pop',index='year', aggfunc='mean')\n",
    "df5.plot(kind='bar')"
   ]
  },
  {
   "cell_type": "code",
   "execution_count": null,
   "metadata": {},
   "outputs": [],
   "source": [
    "# trend over the years for a particular country\n",
    "df5= pd.pivot_table(suicide_df, values='suicides/100k pop',index='year',columns='country', aggfunc='sum')\n",
    "\n",
    "country= 'Chile' # enter country name here\n",
    "df5[country].plot(kind='bar', title=country)"
   ]
  },
  {
   "cell_type": "code",
   "execution_count": null,
   "metadata": {},
   "outputs": [],
   "source": [
    "happiness2015_df = pd.read_csv('2015.csv')"
   ]
  },
  {
   "cell_type": "code",
   "execution_count": null,
   "metadata": {},
   "outputs": [],
   "source": [
    "suicide_rates_df = pd.read_csv('master.csv')\n",
    "suicide2015_df = suicide_rates_df.loc[suicide_rates_df['year'] == 2015]"
   ]
  },
  {
   "cell_type": "code",
   "execution_count": null,
   "metadata": {},
   "outputs": [],
   "source": [
    "happiness_countries = happiness2015_df.Country.values\n",
    "suicide_countries = suicide2015_df.country.unique()\n",
    "\n",
    "countries_intersect = set(suicide_countries).intersection(set(happiness_countries))"
   ]
  },
  {
   "cell_type": "code",
   "execution_count": null,
   "metadata": {},
   "outputs": [],
   "source": [
    "happiness_scores = []\n",
    "suicides_per_100k = []\n",
    "family_scores = []\n",
    "freedom_scores = []\n",
    "trust_scores = []\n",
    "generosity_scores = []\n",
    "life_scores = []\n",
    "\n",
    "for country in countries_intersect:\n",
    "  happiness_scores.append(happiness2015_df.loc[happiness2015_df['Country'] == country]['Happiness Score'].sum())\n",
    "  suicides_per_100k.append(suicide2015_df.loc[suicide2015_df['country'] == country]['suicides/100k pop'].sum())\n",
    "  family_scores.append(happiness2015_df.loc[happiness2015_df['Country'] == country]['Family'].sum())\n",
    "  freedom_scores.append(happiness2015_df.loc[happiness2015_df['Country'] == country]['Freedom'].sum())\n",
    "  trust_scores.append(happiness2015_df.loc[happiness2015_df['Country'] == country]['Trust (Government Corruption)'].sum())\n",
    "  generosity_scores.append(happiness2015_df.loc[happiness2015_df['Country'] == country]['Generosity'].sum())\n",
    "  life_scores.append(happiness2015_df.loc[happiness2015_df['Country'] == country]['Health (Life Expectancy)'].sum())\n",
    "\n",
    "plt.scatter(happiness_scores, suicides_per_100k)\n",
    "plt.xlabel('Happiness Score')\n",
    "plt.ylabel('Suicides / 100k Pop')\n",
    "plt.title('Suicides / 100k Population vs Happiness Score (2015)')\n",
    "# plt.savefig('suic_hapscore_2015.png')\n",
    "plt.show()"
   ]
  },
  {
   "cell_type": "code",
   "execution_count": null,
   "metadata": {},
   "outputs": [],
   "source": [
    "plt.scatter(family_scores, suicides_per_100k)\n",
    "plt.xlabel('Family Score')\n",
    "plt.ylabel('Suicides / 100k Pop')\n",
    "plt.title('Suicides / 100k Population vs Family Score (2015)')\n",
    "# plt.savefig('suic_famscore_2015.png')\n",
    "plt.show()"
   ]
  },
  {
   "cell_type": "code",
   "execution_count": null,
   "metadata": {},
   "outputs": [],
   "source": [
    "plt.scatter(freedom_scores, suicides_per_100k)\n",
    "plt.xlabel('Freedom Score')\n",
    "plt.ylabel('Suicides / 100k Pop')\n",
    "plt.title('Suicides / 100k Population vs Freedom Score (2015)')\n",
    "# plt.savefig('suic_freescore_2015.png')\n",
    "plt.show()"
   ]
  },
  {
   "cell_type": "code",
   "execution_count": null,
   "metadata": {},
   "outputs": [],
   "source": [
    "plt.scatter(life_scores, suicides_per_100k)\n",
    "plt.xlabel('Health Score')\n",
    "plt.ylabel('Suicides / 100k Pop')\n",
    "plt.title('Suicides / 100k Population vs Health Score (2015)')\n",
    "# plt.savefig('suic_healthscore_2015.png')\n",
    "plt.show()"
   ]
  },
  {
   "cell_type": "code",
   "execution_count": null,
   "metadata": {},
   "outputs": [],
   "source": [
    "plt.scatter(trust_scores, suicides_per_100k)\n",
    "plt.xlabel('Trust Score')\n",
    "plt.ylabel('Suicides / 100k Pop')\n",
    "plt.title('Suicides / 100k Population vs Government Trust Score (2015)')\n",
    "# plt.savefig('suic_trustscore_2015.png')\n",
    "plt.show()"
   ]
  },
  {
   "cell_type": "code",
   "execution_count": null,
   "metadata": {},
   "outputs": [],
   "source": [
    "plt.scatter(generosity_scores, suicides_per_100k)\n",
    "plt.xlabel('Generosity Score')\n",
    "plt.ylabel('Suicides / 100k Pop')\n",
    "plt.title('Suicides / 100k Population vs Generosity Score (2015)')\n",
    "# plt.savefig('suic_generscore_2015.png')\n",
    "plt.show()"
   ]
  },
  {
   "cell_type": "code",
   "execution_count": null,
   "metadata": {},
   "outputs": [],
   "source": [
    "#Slight trend with trust (in gov) and generosity score."
   ]
  },
  {
   "cell_type": "code",
   "execution_count": null,
   "metadata": {},
   "outputs": [],
   "source": [
    "# calculating correlation coeff between suicides and trust in gov and generosity\\\n",
    "\n",
    "corr_trust_suic = np.corrcoef(suicides_per_100k, trust_scores)\n",
    "corr_gen_suic = np.corrcoef(suicides_per_100k, generosity_scores)\n",
    "corr_hap = np.corrcoef(suicides_per_100k, happiness_scores)\n",
    "corr_fam = np.corrcoef(suicides_per_100k, family_scores)\n",
    "corr_health = np.corrcoef(suicides_per_100k, life_scores)\n",
    "corr_free = np.corrcoef(suicides_per_100k, freedom_scores)\n",
    "\n",
    "\n",
    "print('trust', corr_trust_suic)\n",
    "print('gen', corr_gen_suic)\n",
    "print('hap', corr_hap)\n",
    "print('free', corr_free)\n",
    "print('health', corr_health)\n",
    "print('fam', corr_fam)"
   ]
  },
  {
   "cell_type": "markdown",
   "metadata": {},
   "source": [
    "# Prediction"
   ]
  },
  {
   "cell_type": "code",
   "execution_count": 4,
   "metadata": {},
   "outputs": [],
   "source": [
    "from sklearn.preprocessing import OneHotEncoder\n",
    "from sklearn.model_selection import train_test_split\n",
    "from sklearn.metrics import mean_squared_error, r2_score"
   ]
  },
  {
   "cell_type": "code",
   "execution_count": 5,
   "metadata": {},
   "outputs": [],
   "source": [
    "def get_training_data(country):\n",
    "    training_df = suicide_df[suicide_df['country'] == country]\n",
    "    y = training_df.loc[:, 'suicides/100k pop'].values\n",
    "    x = training_df.loc[:, ['sex', 'age', 'population', 'gdp_per_capita ($)']].values\n",
    "    enc = OneHotEncoder()\n",
    "    x = enc.fit_transform(x).toarray()\n",
    "    return x, y"
   ]
  },
  {
   "cell_type": "code",
   "execution_count": 6,
   "metadata": {},
   "outputs": [],
   "source": [
    "for country in countries:\n",
    "    x_train, x_test, y_train, y_test = train_test_split(get_training_data(country)[0], get_training_data(country)[1], test_size = 1/3, random_state = 0)"
   ]
  },
  {
   "cell_type": "code",
   "execution_count": 7,
   "metadata": {},
   "outputs": [],
   "source": [
    "#saving per country model in dictionary\n",
    "model_dict_lr = {}\n",
    "for country in countries:\n",
    "    from sklearn.linear_model import LinearRegression\n",
    "    model_lr = LinearRegression()\n",
    "    model_lr.fit(x_train, y_train)\n",
    "    model_dict_lr[country] = model_lr"
   ]
  },
  {
   "cell_type": "code",
   "execution_count": 8,
   "metadata": {},
   "outputs": [],
   "source": [
    "#prediction\n",
    "y_pred = {}\n",
    "for country in countries:\n",
    "    y_pred[country] = model_dict_lr[country].predict(x_test)"
   ]
  },
  {
   "cell_type": "code",
   "execution_count": 9,
   "metadata": {},
   "outputs": [],
   "source": [
    "#mean squared error\n",
    "mse_lr = {}\n",
    "for country in countries:\n",
    "    mse_lr[country] = mean_squared_error(y_pred[country], y_test)"
   ]
  },
  {
   "cell_type": "code",
   "execution_count": 10,
   "metadata": {},
   "outputs": [
    {
     "data": {
      "text/plain": [
       "12.01089297252368"
      ]
     },
     "execution_count": 10,
     "metadata": {},
     "output_type": "execute_result"
    }
   ],
   "source": [
    "#avg mean squared error\n",
    "sum(mse_lr.values())/len(mse_lr)"
   ]
  },
  {
   "cell_type": "code",
   "execution_count": null,
   "metadata": {},
   "outputs": [],
   "source": []
  }
 ],
 "metadata": {
  "kernelspec": {
   "display_name": "Python 3",
   "language": "python",
   "name": "python3"
  },
  "language_info": {
   "codemirror_mode": {
    "name": "ipython",
    "version": 3
   },
   "file_extension": ".py",
   "mimetype": "text/x-python",
   "name": "python",
   "nbconvert_exporter": "python",
   "pygments_lexer": "ipython3",
   "version": "3.7.3"
  }
 },
 "nbformat": 4,
 "nbformat_minor": 2
}
